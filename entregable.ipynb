{
 "cells": [
  {
   "cell_type": "markdown",
   "metadata": {},
   "source": [
    "# ecoVIZ\n",
    "\n",
    "*Esteban Castillo Mondragón*\n",
    "\n",
    "*Jerónimo Aranda Barois*\n",
    "\n",
    "<div>\n",
    "<img src=\"data/10000.png\" width=\"500\"/>\n",
    "</div>\n",
    "\n",
    "\n",
    "## El estado de la red\n",
    "### Justificar la elección de un día.\n",
    "\n",
    "La red de ecobicis es un sistema que brinda servicio a una enorma cantidad de usuarios, cómo tal, es un sistema complejo que cuenta con 480 estaciones y tiene cerca de 1,000,000 viajes al mes. El uso de la bicicleta tiene beneficios en salud y ahorra tiempos de traslado en distancias cortas a los usuarios, mientras ayuda al medio ambiente, y disminuye el tráfico en la ciudad. Para facilitar la comprensión del fenómeno veamos las distribuciones de la utilización en algunos días de la semana a lo largo del día.\n",
    "\n",
    "\n",
    "<center>\n",
    "<div>\n",
    "<img src=\"plots/viajes-dia.png\" width=\"1000\"/>\n",
    "    <b>Figura 1.</b> Distribución de actividad a lo largo del día.\n",
    "</div>\n",
    "</center>\n",
    "\n",
    "Es interesante ver la distinción clara entre los días laborales y los fines de semana. Entre días laborales las distribuciones parecen ser idénticas con la excepción del viernes por la tarde. En días feriados, que en la Figura 1 coinciden los días de Semana Santa se observa una distribución casi idéntica a la de los fines de semana. Los días laborales son los que tienen la mayor cantidad de viajes y los viajes estos día tienen una distribución bimodal, con los picos coincidiendo con las horas de entrada y salida de la jornada laboral. Los fines de semana el sistema llega a su máximo uso a medio día. La dinámica particular de los sistemas de bicicletas compartidas sugieren hacer enfásis en una optimización del inventario mediante un rebalanceo como se muestra en  -- <cite>Castillo ,2019</cite>. \n",
    "\n",
    "\n",
    "\n",
    "\n",
    "\n",
    "\n",
    "### Gifs del flujo.\n",
    "\n",
    "El siguiente gráfico muestra la actividad total de nuestro sistema el día 12 de junio del 2019. Se seleccionó este día por ser un día laboral cualquiera en la muestra, teniendo cuidado de no tomar días atípicos por clima u otras razones.  Se muestra el estado de las estaciones del sistema Ecobici, el balance del flujo y la cantidad de actividad en cada estación, para brindar al lector un panorama completo del funcionamiento del sistema a lo largo del día. Destaca la saturación del sistema en su periferia, así como con estaciones cercanas a intersecciones con el transporte público. Esto sugiere que una buena parte de los usuarios del sistema están llegando de otros lugares, y que probablemente estarían interesados en una cobertura más amplia del sistema.    \n",
    "\n",
    "![](map.gif)\n",
    "\n",
    "### Explicación del gráfico.\n",
    "\n",
    "\n",
    "Resalta la baja cobertura del sistema Ecobici al considerar toda la ciudad de México. Se observa una clara  La disposición de muchos usuarios a hacer viajes largos reta la estrategia de siempre hacer estaciones muy cercanas al resto. Quizá, el sistema podría ampliar su cobertura con algunas estaciones satélite alejadas de las demás que atendieran colonias con pocas .  \n",
    "\n",
    "\n",
    "##mapa cdmx\n",
    "\n",
    "\n",
    " \n",
    "\n",
    "\n",
    "\n",
    "\n",
    "### Enlace al poster de todo el mes.\n",
    "\n",
    "\n",
    "..."
   ]
  },
  {
   "cell_type": "markdown",
   "metadata": {},
   "source": [
    "## Ecobici dentro de la ciudad\n",
    "\n",
    "Genero edad y ecobici.\n",
    "\n",
    "Ecobici y turismo.\n",
    "\n",
    "Errores y areas de oportunidad.\n",
    "\n",
    "Posibles planteamientos de escalamiento.\n",
    "\n",
    "\n",
    "## Conclusiones"
   ]
  },
  {
   "cell_type": "code",
   "execution_count": null,
   "metadata": {},
   "outputs": [],
   "source": []
  }
 ],
 "metadata": {
  "kernelspec": {
   "display_name": "Python 3",
   "language": "python",
   "name": "python3"
  },
  "language_info": {
   "codemirror_mode": {
    "name": "ipython",
    "version": 3
   },
   "file_extension": ".py",
   "mimetype": "text/x-python",
   "name": "python",
   "nbconvert_exporter": "python",
   "pygments_lexer": "ipython3",
   "version": "3.7.4"
  }
 },
 "nbformat": 4,
 "nbformat_minor": 2
}
