{
 "cells": [
  {
   "cell_type": "markdown",
   "metadata": {},
   "source": [
    "# ecoVIZ\n",
    "\n",
    "*Esteban Castillo Mondragón*\n",
    "\n",
    "*Jerónimo Aranda Barois*\n",
    "<center>\n",
    "    <div>\n",
    "        <a href='data/10000.png'>\n",
    "            <img src=\"data/10000.png\" width=\"800\"/></a>\n",
    "        <b>Portada.</b> Los primeros 10,000 viajes de septiembre 2019 (click en imagen para ver en tamaño real).\n",
    "    </div>  \n",
    "</center>\n",
    "\n",
    "## Introducción\n",
    "\n",
    "Choro mareador\n",
    "\n",
    "## El estado de la red\n",
    "\n",
    "### Justificar la elección de un día.\n",
    "\n",
    "La red de ecobicis es un sistema que brinda servicio a una enorma cantidad de usuarios, cómo tal, es un sistema complejo que cuenta con 480 estaciones y tiene cerca de <mark>tantos viajes</mark>. Para facilitar la comprensión del fenómeno veamos las distribuciones de la utilización en algunos días de la semana a lo largo del día.\n",
    "<center>\n",
    "<div>\n",
    "    <b>Figura 1.</b> Distribución de retiros en todas las estaciones a lo largo del día en marzo de 2019.\n",
    "    <img src=\"plots/analisis_polanco/viajes-hora-2.png\" width=\"1000\"/>\n",
    "    \n",
    "</div>\n",
    "</center>\n",
    "\n",
    "Es interesante ver la distinción clara entre los días laborales y los fines de semana. Entre días laborales las distribuciones parecen ser idénticas excepto talvez por la tarde del viernes. Es por esto que para entender el sistema optamos por analizar un sólo día laboral, **12-06-19**.\n",
    "\n",
    "\n",
    "### GIF de actividad diaría.\n",
    "\n",
    "El siguiente gráfico muestra la actividad total de nuestro sistema el día 12 de junio del 2019. Es decir muestra el estado de las estaciones, el balance del flujo, la cantidad de actividad además de .\n",
    "\n",
    "\n",
    "<center>\n",
    "<div>\n",
    "    <b>Figura 2.</b> Actividad a lo largo del día 12 de junio de 2019 (click en GIF para ver en tamaño real).\n",
    "    <a href='map2.gif'><video id=\"sampleMovie\" width='600' src=\"../video.mov\" controls></video></a>\n",
    "    <img src=\"data/cbar_balance.png\" width=\"736\"/>\n",
    "    <img src=\"data/cbar_estado.png\" width=\"700\"/>\n",
    "    <img src=\"data/cbar_viajes.png\" width=\"700\"/>\n",
    "    \n",
    "</div>\n",
    "</center>\n",
    "\n",
    "\n",
    "\n"
   ]
  },
  {
   "cell_type": "markdown",
   "metadata": {},
   "source": []
  },
  {
   "cell_type": "markdown",
   "metadata": {},
   "source": [
    "### Enlace al poster de todo el mes.\n",
    "\n",
    "\n",
    "<center>\n",
    "    <b>Figura 3.</b> Flujo durante septiembre 2019 (click en imagen para ver en tamaño real).\n",
    "    <div><a href='data/septiembre.png'>\n",
    "            <img src=\"data/septiembre.png\" width=\"600\"/></a>\n",
    "         <img src=\"data/cbar_flujo.png\" width=\"700\"/>\n",
    "    </div>  \n",
    "</center>"
   ]
  },
  {
   "cell_type": "markdown",
   "metadata": {},
   "source": [
    "## Ecobici dentro de la ciudad\n",
    "\n",
    "Genero edad y ecobici.\n",
    "\n",
    "Ecobici y turismo.\n",
    "\n",
    "Errores y areas de oportunidad.\n",
    "\n",
    "### Posibles planteamientos de escalamiento.\n",
    "Qué pedo caben más estaciones!!!\n",
    "\n",
    "![](data/cdmx.png)\n",
    "\n",
    "## Conclusiones"
   ]
  }
 ],
 "metadata": {
  "kernelspec": {
   "display_name": "Python 3",
   "language": "python",
   "name": "python3"
  },
  "language_info": {
   "codemirror_mode": {
    "name": "ipython",
    "version": 3
   },
   "file_extension": ".py",
   "mimetype": "text/x-python",
   "name": "python",
   "nbconvert_exporter": "python",
   "pygments_lexer": "ipython3",
   "version": "3.7.0"
  }
 },
 "nbformat": 4,
 "nbformat_minor": 2
}
