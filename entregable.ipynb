{
 "cells": [
  {
   "cell_type": "markdown",
   "metadata": {},
   "source": [
    "# ecoVIZ\n",
    "\n",
    "*Esteban Castillo Mondragón*\n",
    "\n",
    "*Jerónimo Aranda Barois*\n",
    "\n",
    "<div>\n",
    "<img src=\"data/10000.png\" width=\"500\"/>\n",
    "</div>\n",
    "\n",
    "\n",
    "## El estado de la red\n",
    "### Justificar la elección de un día.\n",
    "\n",
    "La red de ecobicis es un sistema que brinda servicio a una enorma cantidad de usuarios, cómo tal, es un sistema complejo que cuenta con 480 estaciones y tiene cerca de <mark>tantos viajes</mark>. Para facilitar la comprensión del fenómeno veamos las distribuciones de la utilización en algunos días de la semana a lo largo del día.\n",
    "<center>\n",
    "<div>\n",
    "<img src=\"plots/analisis_polanco/viajes-hora-2.png\" width=\"1000\"/>\n",
    "    <b>Figura 1.</b> Distribución de actividad a lo largo del día.\n",
    "</div>\n",
    "</center>\n",
    "\n",
    "Es interesante ver la distinción clara entre los días laborales y los fines de semana. Entre días laborales las distribuciones parecen ser idénticas excepto talvez por la tarde del viernes. Es por esto que para entender el sistema optamos por analizar un sólo día laboral, **12-06-19**.\n",
    "\n",
    "\n",
    "### Gifs del flujo.\n",
    "\n",
    "El siguiente gráfico muestra la actividad total de nuestro sistema el día 12 de junio del 2019. Es decir muestra el estado de las estaciones, el balance del flujo, la cantidad de actividad además de .....\n",
    "\n",
    "![](map.gif)\n",
    "\n",
    "### Explicación del gráfico.\n",
    "\n",
    "### Enlace al poster de todo el mes.\n",
    "\n",
    "\n",
    "..."
   ]
  },
  {
   "cell_type": "markdown",
   "metadata": {},
   "source": [
    "## Ecobici dentro de la ciudad\n",
    "\n",
    "Genero edad y ecobici.\n",
    "\n",
    "Ecobici y turismo.\n",
    "\n",
    "Errores y areas de oportunidad.\n",
    "\n",
    "Posibles planteamientos de escalamiento.\n",
    "\n",
    "\n",
    "## Conclusiones"
   ]
  },
  {
   "cell_type": "code",
   "execution_count": null,
   "metadata": {},
   "outputs": [],
   "source": []
  }
 ],
 "metadata": {
  "kernelspec": {
   "display_name": "Python 3",
   "language": "python",
   "name": "python3"
  },
  "language_info": {
   "codemirror_mode": {
    "name": "ipython",
    "version": 3
   },
   "file_extension": ".py",
   "mimetype": "text/x-python",
   "name": "python",
   "nbconvert_exporter": "python",
   "pygments_lexer": "ipython3",
   "version": "3.7.0"
  }
 },
 "nbformat": 4,
 "nbformat_minor": 2
}
