{
 "cells": [
  {
   "cell_type": "markdown",
   "metadata": {},
   "source": [
    "# ecoVIZ\n",
    "\n",
    "*Esteban Castillo Mondragón*\n",
    "\n",
    "*Jerónimo Aranda Barois*\n",
    "\n",
    "<div>\n",
    "<img src=\"data/10000.png\" width=\"500\"/>\n",
    "</div>\n",
    "\n",
    "\n",
    "## El estado de la red\n",
    "\n",
    "Justificar la elección de un día.\n",
    "\n",
    "Gifs del flujo.\n",
    "\n",
    "Explicación del gráfico.\n",
    "\n",
    "Enlace al poster de todo el mes.\n",
    "\n",
    "\n",
    "## Ecobici dentro de la ciudad\n",
    "\n",
    "Genero edad y ecobici.\n",
    "\n",
    "Ecobici y turismo.\n",
    "\n",
    "Errores y areas de oportunidad.\n",
    "\n",
    "Posibles planteamientos de escalamiento.\n",
    "\n",
    "\n",
    "## Conclusiones\n",
    "\n",
    "..."
   ]
  },
  {
   "cell_type": "code",
   "execution_count": null,
   "metadata": {},
   "outputs": [],
   "source": []
  }
 ],
 "metadata": {
  "kernelspec": {
   "display_name": "Python 3",
   "language": "python",
   "name": "python3"
  },
  "language_info": {
   "codemirror_mode": {
    "name": "ipython",
    "version": 3
   },
   "file_extension": ".py",
   "mimetype": "text/x-python",
   "name": "python",
   "nbconvert_exporter": "python",
   "pygments_lexer": "ipython3",
   "version": "3.7.0"
  }
 },
 "nbformat": 4,
 "nbformat_minor": 2
}
